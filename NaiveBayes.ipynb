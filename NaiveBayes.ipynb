{
 "cells": [
  {
   "cell_type": "code",
   "execution_count": 7,
   "metadata": {},
   "outputs": [],
   "source": [
    "import numpy as np\n",
    "from algora.base import BaseEstimator\n",
    "from algora.neuralnet.activations import softmax\n",
    "\n",
    "\n",
    "class NaiveBayesClassifier(BaseEstimator):\n",
    "    \"\"\"Gaussian Naive Bayes.\"\"\"\n",
    "    # Binary problem.\n",
    "    n_classes = 2\n",
    "\n",
    "    def fit(self, X, y=None):\n",
    "        self._setup_input(X, y)\n",
    "        # Check target labels\n",
    "        assert list(np.unique(y)) == [0, 1]\n",
    "\n",
    "        # Mean and variance for each class and feature combination\n",
    "        self._mean = np.zeros((self.n_classes, self.n_features), dtype=np.float64)\n",
    "        self._var = np.zeros((self.n_classes, self.n_features), dtype=np.float64)\n",
    "\n",
    "        self._priors = np.zeros(self.n_classes, dtype=np.float64)\n",
    "\n",
    "        for c in range(self.n_classes):\n",
    "            # Filter features by class\n",
    "            X_c = X[y == c]\n",
    "\n",
    "            # Calculate mean, variance, prior for each class\n",
    "            self._mean[c, :] = X_c.mean(axis=0)\n",
    "            self._var[c, :] = X_c.var(axis=0)\n",
    "            self._priors[c] = X_c.shape[0] / float(X.shape[0])\n",
    "\n",
    "    def _predict(self, X=None):\n",
    "        # Apply _predict_proba for each row\n",
    "        predictions = np.apply_along_axis(self._predict_row, 1, X)\n",
    "\n",
    "        # Normalize probabilities so that each row will sum up to 1.0\n",
    "        return softmax(predictions)\n",
    "\n",
    "    def _predict_row(self, x):\n",
    "        \"\"\"Predict log likelihood for given row.\"\"\"\n",
    "        output = []\n",
    "        for y in range(self.n_classes):\n",
    "            prior = np.log(self._priors[y])\n",
    "            posterior = np.log(self._pdf(y, x)).sum()\n",
    "            prediction = prior + posterior\n",
    "\n",
    "            output.append(prediction)\n",
    "        return output\n",
    "\n",
    "    def _pdf(self, n_class, x):\n",
    "        \"\"\"Calculate Gaussian PDF for each feature.\"\"\"\n",
    "\n",
    "        mean = self._mean[n_class]\n",
    "        var = self._var[n_class]\n",
    "\n",
    "        numerator = np.exp(-(x - mean) ** 2 / (2 * var))\n",
    "        denominator = np.sqrt(2 * np.pi * var)\n",
    "        return numerator / denominator\n"
   ]
  },
  {
   "cell_type": "code",
   "execution_count": 8,
   "metadata": {},
   "outputs": [
    {
     "name": "stdout",
     "output_type": "stream",
     "text": [
      "classification accuracy 1.0\n"
     ]
    }
   ],
   "source": [
    "from sklearn.datasets import make_classification\n",
    "from sklearn.metrics import roc_auc_score\n",
    "from sklearn.model_selection import train_test_split\n",
    "\n",
    "from algora.naive_bayes import NaiveBayesClassifier\n",
    "\n",
    "\n",
    "def classification():\n",
    "    # Generate a random binary classification problem.\n",
    "    X, y = make_classification(n_samples=1000, n_features=10, n_informative=10,\n",
    "                               random_state=1111, n_classes=2, class_sep=2.5,\n",
    "                               n_redundant=0)\n",
    "    X_train, X_test, y_train, y_test = train_test_split(X, y, test_size=0.1,\n",
    "                                                        random_state=1111)\n",
    "\n",
    "    model = NaiveBayesClassifier()\n",
    "    model.fit(X_train, y_train)\n",
    "    predictions = model.predict(X_test)[:, 1]\n",
    "\n",
    "    print('classification accuracy', roc_auc_score(y_test, predictions))\n",
    "\n",
    "\n",
    "if __name__ == '__main__':\n",
    "    classification()\n"
   ]
  },
  {
   "cell_type": "code",
   "execution_count": null,
   "metadata": {},
   "outputs": [],
   "source": []
  }
 ],
 "metadata": {
  "kernelspec": {
   "display_name": "Python 3",
   "language": "python",
   "name": "python3"
  },
  "language_info": {
   "codemirror_mode": {
    "name": "ipython",
    "version": 3
   },
   "file_extension": ".py",
   "mimetype": "text/x-python",
   "name": "python",
   "nbconvert_exporter": "python",
   "pygments_lexer": "ipython3",
   "version": "3.6.3"
  }
 },
 "nbformat": 4,
 "nbformat_minor": 2
}
